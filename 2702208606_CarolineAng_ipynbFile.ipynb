{
  "cells": [
    {
      "cell_type": "markdown",
      "id": "098a4a4c",
      "metadata": {},
      "source": [
        "Nama: Caroline Ang \\\n",
        "NIM: 2702208606"
      ]
    },
    {
      "cell_type": "markdown",
      "id": "8aea1db0",
      "metadata": {},
      "source": [
        "Dataset:\\\n",
        "Booking_ID                          : ID Unique untuk setiap pesanan\\\n",
        "no_of_adults                        : Jumlah adult/orang dewasa\\\n",
        "no_of_children                      : Jumlah anak kecil\\\n",
        "no_of_weekend_nights                : Jumlah hari menginap pada akhir pekan (sabtu-minggu)\\\n",
        "no_of_week_nights                   : Jumlah hari menginap pada hari biasa (senin-jumat)\\\n",
        "type_of_meal_plan                   : Pilihan paket makanan tamu\\\n",
        "required_car_parking_space          : Apakah perlu tempat parkir mobil (0-No, 1-Yes)\\\n",
        "room_type_reserved                  : Jenis kamar yang dipesan (encrypted oleh INN Hotels)\\\n",
        "lead_time                           : Jarak hari pemesanan kamar dan tanggal menginap \\\n",
        "arrival_year                        : Tahun menginap\\\n",
        "arrival_month                       : Bulan menginap\\\n",
        "arrival_date                        : Tanggal menginap\\\n",
        "market_segment_type                 : Penunjukkan segmen pasar\\\n",
        "repeated_guest                      : Apakah tamu yang pernah memesan dan menginap sebelumnya (0-No, 1-Yes)\\\n",
        "no_of_previous_cancellations        : Jumlah pemesanan yang pernah dibatalkan oleh tamu\\\n",
        "no_of_previous_bookings_not_canceled: Jumlah pemesanan yang tidak dibatalkan oleh tamu\\\n",
        "avg_price_per_room                  : Harga rata-rata per hari (bersifat dinamis + dalam euro)\\\n",
        "no_of_special_requests              : Jumlah permintaan khusus yang dibuat oleh tamu\n",
        "\n",
        "Target:\\\n",
        "booking_status                      : Penanda untuk menunjukkan apakah pesanan dibatalkan atau tidak"
      ]
    },
    {
      "cell_type": "markdown",
      "id": "d9bcb252",
      "metadata": {
        "id": "d9bcb252"
      },
      "source": [
        "## Importing Libraries"
      ]
    },
    {
      "cell_type": "code",
      "execution_count": 3,
      "id": "c247e289",
      "metadata": {
        "id": "c247e289"
      },
      "outputs": [],
      "source": [
        "import numpy as np\n",
        "import pandas as pd\n",
        "import matplotlib.pyplot as plt\n",
        "import pickle as pkl\n",
        "import statistics\n",
        "\n",
        "from sklearn.preprocessing import OneHotEncoder, LabelEncoder\n",
        "from sklearn.model_selection import train_test_split\n",
        "from sklearn.ensemble import RandomForestClassifier\n",
        "from sklearn.metrics import classification_report, accuracy_score\n",
        "from xgboost import XGBClassifier"
      ]
    },
    {
      "cell_type": "markdown",
      "id": "a56675cf",
      "metadata": {
        "id": "a56675cf"
      },
      "source": [
        "## A. Preprocessing"
      ]
    },
    {
      "cell_type": "markdown",
      "id": "7b16f1db",
      "metadata": {},
      "source": [
        "### Reading Dataset"
      ]
    },
    {
      "cell_type": "code",
      "execution_count": 4,
      "id": "f1831a25",
      "metadata": {
        "colab": {
          "base_uri": "https://localhost:8080/",
          "height": 0
        },
        "id": "f1831a25",
        "outputId": "c343a6b6-cc38-4dc6-8c94-b4961d73b6c5"
      },
      "outputs": [
        {
          "data": {
            "text/html": [
              "<div>\n",
              "<style scoped>\n",
              "    .dataframe tbody tr th:only-of-type {\n",
              "        vertical-align: middle;\n",
              "    }\n",
              "\n",
              "    .dataframe tbody tr th {\n",
              "        vertical-align: top;\n",
              "    }\n",
              "\n",
              "    .dataframe thead th {\n",
              "        text-align: right;\n",
              "    }\n",
              "</style>\n",
              "<table border=\"1\" class=\"dataframe\">\n",
              "  <thead>\n",
              "    <tr style=\"text-align: right;\">\n",
              "      <th></th>\n",
              "      <th>Booking_ID</th>\n",
              "      <th>no_of_adults</th>\n",
              "      <th>no_of_children</th>\n",
              "      <th>no_of_weekend_nights</th>\n",
              "      <th>no_of_week_nights</th>\n",
              "      <th>type_of_meal_plan</th>\n",
              "      <th>required_car_parking_space</th>\n",
              "      <th>room_type_reserved</th>\n",
              "      <th>lead_time</th>\n",
              "      <th>arrival_year</th>\n",
              "      <th>arrival_month</th>\n",
              "      <th>arrival_date</th>\n",
              "      <th>market_segment_type</th>\n",
              "      <th>repeated_guest</th>\n",
              "      <th>no_of_previous_cancellations</th>\n",
              "      <th>no_of_previous_bookings_not_canceled</th>\n",
              "      <th>avg_price_per_room</th>\n",
              "      <th>no_of_special_requests</th>\n",
              "      <th>booking_status</th>\n",
              "    </tr>\n",
              "  </thead>\n",
              "  <tbody>\n",
              "    <tr>\n",
              "      <th>0</th>\n",
              "      <td>INN00001</td>\n",
              "      <td>2</td>\n",
              "      <td>0</td>\n",
              "      <td>1</td>\n",
              "      <td>2</td>\n",
              "      <td>Meal Plan 1</td>\n",
              "      <td>0.0</td>\n",
              "      <td>Room_Type 1</td>\n",
              "      <td>224</td>\n",
              "      <td>2017</td>\n",
              "      <td>10</td>\n",
              "      <td>2</td>\n",
              "      <td>Offline</td>\n",
              "      <td>0</td>\n",
              "      <td>0</td>\n",
              "      <td>0</td>\n",
              "      <td>65.00</td>\n",
              "      <td>0</td>\n",
              "      <td>Not_Canceled</td>\n",
              "    </tr>\n",
              "    <tr>\n",
              "      <th>1</th>\n",
              "      <td>INN00002</td>\n",
              "      <td>2</td>\n",
              "      <td>0</td>\n",
              "      <td>2</td>\n",
              "      <td>3</td>\n",
              "      <td>Not Selected</td>\n",
              "      <td>0.0</td>\n",
              "      <td>Room_Type 1</td>\n",
              "      <td>5</td>\n",
              "      <td>2018</td>\n",
              "      <td>11</td>\n",
              "      <td>6</td>\n",
              "      <td>Online</td>\n",
              "      <td>0</td>\n",
              "      <td>0</td>\n",
              "      <td>0</td>\n",
              "      <td>106.68</td>\n",
              "      <td>1</td>\n",
              "      <td>Not_Canceled</td>\n",
              "    </tr>\n",
              "    <tr>\n",
              "      <th>2</th>\n",
              "      <td>INN00003</td>\n",
              "      <td>1</td>\n",
              "      <td>0</td>\n",
              "      <td>2</td>\n",
              "      <td>1</td>\n",
              "      <td>Meal Plan 1</td>\n",
              "      <td>0.0</td>\n",
              "      <td>Room_Type 1</td>\n",
              "      <td>1</td>\n",
              "      <td>2018</td>\n",
              "      <td>2</td>\n",
              "      <td>28</td>\n",
              "      <td>Online</td>\n",
              "      <td>0</td>\n",
              "      <td>0</td>\n",
              "      <td>0</td>\n",
              "      <td>60.00</td>\n",
              "      <td>0</td>\n",
              "      <td>Canceled</td>\n",
              "    </tr>\n",
              "    <tr>\n",
              "      <th>3</th>\n",
              "      <td>INN00004</td>\n",
              "      <td>2</td>\n",
              "      <td>0</td>\n",
              "      <td>0</td>\n",
              "      <td>2</td>\n",
              "      <td>Meal Plan 1</td>\n",
              "      <td>0.0</td>\n",
              "      <td>Room_Type 1</td>\n",
              "      <td>211</td>\n",
              "      <td>2018</td>\n",
              "      <td>5</td>\n",
              "      <td>20</td>\n",
              "      <td>Online</td>\n",
              "      <td>0</td>\n",
              "      <td>0</td>\n",
              "      <td>0</td>\n",
              "      <td>100.00</td>\n",
              "      <td>0</td>\n",
              "      <td>Canceled</td>\n",
              "    </tr>\n",
              "    <tr>\n",
              "      <th>4</th>\n",
              "      <td>INN00005</td>\n",
              "      <td>2</td>\n",
              "      <td>0</td>\n",
              "      <td>1</td>\n",
              "      <td>1</td>\n",
              "      <td>Not Selected</td>\n",
              "      <td>0.0</td>\n",
              "      <td>Room_Type 1</td>\n",
              "      <td>48</td>\n",
              "      <td>2018</td>\n",
              "      <td>4</td>\n",
              "      <td>11</td>\n",
              "      <td>Online</td>\n",
              "      <td>0</td>\n",
              "      <td>0</td>\n",
              "      <td>0</td>\n",
              "      <td>94.50</td>\n",
              "      <td>0</td>\n",
              "      <td>Canceled</td>\n",
              "    </tr>\n",
              "  </tbody>\n",
              "</table>\n",
              "</div>"
            ],
            "text/plain": [
              "  Booking_ID  no_of_adults  no_of_children  no_of_weekend_nights  \\\n",
              "0   INN00001             2               0                     1   \n",
              "1   INN00002             2               0                     2   \n",
              "2   INN00003             1               0                     2   \n",
              "3   INN00004             2               0                     0   \n",
              "4   INN00005             2               0                     1   \n",
              "\n",
              "   no_of_week_nights type_of_meal_plan  required_car_parking_space  \\\n",
              "0                  2       Meal Plan 1                         0.0   \n",
              "1                  3      Not Selected                         0.0   \n",
              "2                  1       Meal Plan 1                         0.0   \n",
              "3                  2       Meal Plan 1                         0.0   \n",
              "4                  1      Not Selected                         0.0   \n",
              "\n",
              "  room_type_reserved  lead_time  arrival_year  arrival_month  arrival_date  \\\n",
              "0        Room_Type 1        224          2017             10             2   \n",
              "1        Room_Type 1          5          2018             11             6   \n",
              "2        Room_Type 1          1          2018              2            28   \n",
              "3        Room_Type 1        211          2018              5            20   \n",
              "4        Room_Type 1         48          2018              4            11   \n",
              "\n",
              "  market_segment_type  repeated_guest  no_of_previous_cancellations  \\\n",
              "0             Offline               0                             0   \n",
              "1              Online               0                             0   \n",
              "2              Online               0                             0   \n",
              "3              Online               0                             0   \n",
              "4              Online               0                             0   \n",
              "\n",
              "   no_of_previous_bookings_not_canceled  avg_price_per_room  \\\n",
              "0                                     0               65.00   \n",
              "1                                     0              106.68   \n",
              "2                                     0               60.00   \n",
              "3                                     0              100.00   \n",
              "4                                     0               94.50   \n",
              "\n",
              "   no_of_special_requests booking_status  \n",
              "0                       0   Not_Canceled  \n",
              "1                       1   Not_Canceled  \n",
              "2                       0       Canceled  \n",
              "3                       0       Canceled  \n",
              "4                       0       Canceled  "
            ]
          },
          "execution_count": 4,
          "metadata": {},
          "output_type": "execute_result"
        }
      ],
      "source": [
        "df = pd.read_csv('Dataset_B_hotel.csv')\n",
        "df.head()"
      ]
    },
    {
      "cell_type": "markdown",
      "id": "bc4ba997",
      "metadata": {},
      "source": [
        "Membuka file dataset dan menjadikannya sebagai dataframe"
      ]
    },
    {
      "cell_type": "markdown",
      "id": "93037e3c",
      "metadata": {},
      "source": [
        "### Checking number of NULL, Data Type, and Duplicates"
      ]
    },
    {
      "cell_type": "code",
      "execution_count": 5,
      "id": "1a8d8efd",
      "metadata": {
        "colab": {
          "base_uri": "https://localhost:8080/"
        },
        "id": "1a8d8efd",
        "outputId": "b52dd118-5195-4f5b-ba54-f86a0f66a367"
      },
      "outputs": [
        {
          "name": "stdout",
          "output_type": "stream",
          "text": [
            "<class 'pandas.core.frame.DataFrame'>\n",
            "RangeIndex: 36275 entries, 0 to 36274\n",
            "Data columns (total 19 columns):\n",
            " #   Column                                Non-Null Count  Dtype  \n",
            "---  ------                                --------------  -----  \n",
            " 0   Booking_ID                            36275 non-null  object \n",
            " 1   no_of_adults                          36275 non-null  int64  \n",
            " 2   no_of_children                        36275 non-null  int64  \n",
            " 3   no_of_weekend_nights                  36275 non-null  int64  \n",
            " 4   no_of_week_nights                     36275 non-null  int64  \n",
            " 5   type_of_meal_plan                     35368 non-null  object \n",
            " 6   required_car_parking_space            35005 non-null  float64\n",
            " 7   room_type_reserved                    36275 non-null  object \n",
            " 8   lead_time                             36275 non-null  int64  \n",
            " 9   arrival_year                          36275 non-null  int64  \n",
            " 10  arrival_month                         36275 non-null  int64  \n",
            " 11  arrival_date                          36275 non-null  int64  \n",
            " 12  market_segment_type                   36275 non-null  object \n",
            " 13  repeated_guest                        36275 non-null  int64  \n",
            " 14  no_of_previous_cancellations          36275 non-null  int64  \n",
            " 15  no_of_previous_bookings_not_canceled  36275 non-null  int64  \n",
            " 16  avg_price_per_room                    34643 non-null  float64\n",
            " 17  no_of_special_requests                36275 non-null  int64  \n",
            " 18  booking_status                        36275 non-null  object \n",
            "dtypes: float64(2), int64(12), object(5)\n",
            "memory usage: 5.3+ MB\n"
          ]
        }
      ],
      "source": [
        "df.info()"
      ]
    },
    {
      "cell_type": "markdown",
      "id": "228dd5a2",
      "metadata": {},
      "source": [
        "Terdapat 4 kolom yang merupakan object, yaitu type_of_meal_plan, room_type_reserved, market_segment_type, dan booking_status (target variable). Nanti akan dilakukan encode untuk kolom yang berisi data kategorikal ini."
      ]
    },
    {
      "cell_type": "code",
      "execution_count": 6,
      "id": "730d7544",
      "metadata": {
        "colab": {
          "base_uri": "https://localhost:8080/",
          "height": 0
        },
        "id": "730d7544",
        "outputId": "e44231eb-6d84-4091-ea5f-7a58434b7b18"
      },
      "outputs": [
        {
          "data": {
            "text/plain": [
              "Booking_ID                                 0\n",
              "no_of_adults                               0\n",
              "no_of_children                             0\n",
              "no_of_weekend_nights                       0\n",
              "no_of_week_nights                          0\n",
              "type_of_meal_plan                        907\n",
              "required_car_parking_space              1270\n",
              "room_type_reserved                         0\n",
              "lead_time                                  0\n",
              "arrival_year                               0\n",
              "arrival_month                              0\n",
              "arrival_date                               0\n",
              "market_segment_type                        0\n",
              "repeated_guest                             0\n",
              "no_of_previous_cancellations               0\n",
              "no_of_previous_bookings_not_canceled       0\n",
              "avg_price_per_room                      1632\n",
              "no_of_special_requests                     0\n",
              "booking_status                             0\n",
              "dtype: int64"
            ]
          },
          "execution_count": 6,
          "metadata": {},
          "output_type": "execute_result"
        }
      ],
      "source": [
        "df.isna().sum()"
      ]
    },
    {
      "cell_type": "markdown",
      "id": "c2647989",
      "metadata": {},
      "source": [
        "Terdapat NULL pada data type_of_meal_plan, required_car_parking_space, dan avg_price_per_room.\\\n",
        "Untuk data numerikal, jika data tersebar secara normal akan digunakan mean, tetapi jika terdapat outlier akan menggunakan median. Hal tersebut akan ditentukan melalui boxplot nanti.\n",
        "\n",
        "Untuk data kategorikal, akan digunakan modus."
      ]
    },
    {
      "cell_type": "code",
      "execution_count": 7,
      "id": "540a368e",
      "metadata": {
        "colab": {
          "base_uri": "https://localhost:8080/",
          "height": 0
        },
        "id": "540a368e",
        "outputId": "90c6327f-5b87-4519-e808-05b75752559c"
      },
      "outputs": [
        {
          "name": "stdout",
          "output_type": "stream",
          "text": [
            "0\n"
          ]
        },
        {
          "data": {
            "text/html": [
              "<div>\n",
              "<style scoped>\n",
              "    .dataframe tbody tr th:only-of-type {\n",
              "        vertical-align: middle;\n",
              "    }\n",
              "\n",
              "    .dataframe tbody tr th {\n",
              "        vertical-align: top;\n",
              "    }\n",
              "\n",
              "    .dataframe thead th {\n",
              "        text-align: right;\n",
              "    }\n",
              "</style>\n",
              "<table border=\"1\" class=\"dataframe\">\n",
              "  <thead>\n",
              "    <tr style=\"text-align: right;\">\n",
              "      <th></th>\n",
              "      <th>Booking_ID</th>\n",
              "      <th>no_of_adults</th>\n",
              "      <th>no_of_children</th>\n",
              "      <th>no_of_weekend_nights</th>\n",
              "      <th>no_of_week_nights</th>\n",
              "      <th>type_of_meal_plan</th>\n",
              "      <th>required_car_parking_space</th>\n",
              "      <th>room_type_reserved</th>\n",
              "      <th>lead_time</th>\n",
              "      <th>arrival_year</th>\n",
              "      <th>arrival_month</th>\n",
              "      <th>arrival_date</th>\n",
              "      <th>market_segment_type</th>\n",
              "      <th>repeated_guest</th>\n",
              "      <th>no_of_previous_cancellations</th>\n",
              "      <th>no_of_previous_bookings_not_canceled</th>\n",
              "      <th>avg_price_per_room</th>\n",
              "      <th>no_of_special_requests</th>\n",
              "      <th>booking_status</th>\n",
              "    </tr>\n",
              "  </thead>\n",
              "  <tbody>\n",
              "  </tbody>\n",
              "</table>\n",
              "</div>"
            ],
            "text/plain": [
              "Empty DataFrame\n",
              "Columns: [Booking_ID, no_of_adults, no_of_children, no_of_weekend_nights, no_of_week_nights, type_of_meal_plan, required_car_parking_space, room_type_reserved, lead_time, arrival_year, arrival_month, arrival_date, market_segment_type, repeated_guest, no_of_previous_cancellations, no_of_previous_bookings_not_canceled, avg_price_per_room, no_of_special_requests, booking_status]\n",
              "Index: []"
            ]
          },
          "execution_count": 7,
          "metadata": {},
          "output_type": "execute_result"
        }
      ],
      "source": [
        "print(df.duplicated().sum())\n",
        "df[df.duplicated()]"
      ]
    },
    {
      "cell_type": "markdown",
      "id": "ca276b17",
      "metadata": {},
      "source": [
        "Tidak ada data duplikat pada dataset ini"
      ]
    },
    {
      "cell_type": "markdown",
      "id": "267fa34c",
      "metadata": {},
      "source": [
        "### Checking the categorical data value counts"
      ]
    },
    {
      "cell_type": "code",
      "execution_count": 8,
      "id": "3pUFQrkNIZIN",
      "metadata": {
        "id": "3pUFQrkNIZIN"
      },
      "outputs": [],
      "source": [
        "categorical = []\n",
        "numerical = []\n",
        "\n",
        "for i in df.columns:\n",
        "  if (df[i].dtype == 'object'):\n",
        "    categorical.append(i)\n",
        "  else:\n",
        "    numerical.append(i)"
      ]
    },
    {
      "cell_type": "markdown",
      "id": "c76c062c",
      "metadata": {},
      "source": [
        "Loop untuk memisahkan kolom yang berupa object/data kategorikal dengan kolom yang merupakan data numerical"
      ]
    },
    {
      "cell_type": "code",
      "execution_count": 9,
      "id": "bf8171f1",
      "metadata": {
        "colab": {
          "base_uri": "https://localhost:8080/"
        },
        "id": "bf8171f1",
        "outputId": "b027db32-733b-4473-d39c-141d442d6181"
      },
      "outputs": [
        {
          "name": "stdout",
          "output_type": "stream",
          "text": [
            "type_of_meal_plan\n",
            "Meal Plan 1     27157\n",
            "Not Selected     4986\n",
            "Meal Plan 2      3220\n",
            "Meal Plan 3         5\n",
            "Name: count, dtype: int64\n",
            "\n",
            "room_type_reserved\n",
            "Room_Type 1    28130\n",
            "Room_Type 4     6057\n",
            "Room_Type 6      966\n",
            "Room_Type 2      692\n",
            "Room_Type 5      265\n",
            "Room_Type 7      158\n",
            "Room_Type 3        7\n",
            "Name: count, dtype: int64\n",
            "\n",
            "market_segment_type\n",
            "Online           23214\n",
            "Offline          10528\n",
            "Corporate         2017\n",
            "Complementary      391\n",
            "Aviation           125\n",
            "Name: count, dtype: int64\n",
            "\n",
            "booking_status\n",
            "Not_Canceled    24390\n",
            "Canceled        11885\n",
            "Name: count, dtype: int64\n",
            "\n"
          ]
        }
      ],
      "source": [
        "for i in categorical:\n",
        "  if (i == 'Booking_ID'): continue\n",
        "  print(df[i].value_counts())\n",
        "  print()"
      ]
    },
    {
      "cell_type": "markdown",
      "id": "4dce940f",
      "metadata": {},
      "source": [
        "Melakukan pengecekan untuk jumlah value/data yang ada pada kolom kategorikal, kecuali Booking_ID yang bersifat unique dan tidak digunakan untuk model machine learning nantinya."
      ]
    },
    {
      "cell_type": "markdown",
      "id": "27cd8eae",
      "metadata": {},
      "source": [
        "### Describing the numerical dataset"
      ]
    },
    {
      "cell_type": "code",
      "execution_count": 10,
      "id": "32ehIOSqJFj5",
      "metadata": {
        "colab": {
          "base_uri": "https://localhost:8080/",
          "height": 0
        },
        "id": "32ehIOSqJFj5",
        "outputId": "b1d95eaa-c735-414d-b4b0-19a911bbc449"
      },
      "outputs": [
        {
          "data": {
            "text/html": [
              "<div>\n",
              "<style scoped>\n",
              "    .dataframe tbody tr th:only-of-type {\n",
              "        vertical-align: middle;\n",
              "    }\n",
              "\n",
              "    .dataframe tbody tr th {\n",
              "        vertical-align: top;\n",
              "    }\n",
              "\n",
              "    .dataframe thead th {\n",
              "        text-align: right;\n",
              "    }\n",
              "</style>\n",
              "<table border=\"1\" class=\"dataframe\">\n",
              "  <thead>\n",
              "    <tr style=\"text-align: right;\">\n",
              "      <th></th>\n",
              "      <th>no_of_adults</th>\n",
              "      <th>no_of_children</th>\n",
              "      <th>no_of_weekend_nights</th>\n",
              "      <th>no_of_week_nights</th>\n",
              "      <th>required_car_parking_space</th>\n",
              "      <th>lead_time</th>\n",
              "      <th>arrival_year</th>\n",
              "      <th>arrival_month</th>\n",
              "      <th>arrival_date</th>\n",
              "      <th>repeated_guest</th>\n",
              "      <th>no_of_previous_cancellations</th>\n",
              "      <th>no_of_previous_bookings_not_canceled</th>\n",
              "      <th>avg_price_per_room</th>\n",
              "      <th>no_of_special_requests</th>\n",
              "    </tr>\n",
              "  </thead>\n",
              "  <tbody>\n",
              "    <tr>\n",
              "      <th>count</th>\n",
              "      <td>36275.000000</td>\n",
              "      <td>36275.000000</td>\n",
              "      <td>36275.000000</td>\n",
              "      <td>36275.000000</td>\n",
              "      <td>35005.000000</td>\n",
              "      <td>36275.000000</td>\n",
              "      <td>36275.000000</td>\n",
              "      <td>36275.000000</td>\n",
              "      <td>36275.000000</td>\n",
              "      <td>36275.000000</td>\n",
              "      <td>36275.000000</td>\n",
              "      <td>36275.000000</td>\n",
              "      <td>34643.000000</td>\n",
              "      <td>36275.000000</td>\n",
              "    </tr>\n",
              "    <tr>\n",
              "      <th>mean</th>\n",
              "      <td>1.844962</td>\n",
              "      <td>0.105279</td>\n",
              "      <td>0.810724</td>\n",
              "      <td>2.204300</td>\n",
              "      <td>0.031281</td>\n",
              "      <td>85.232557</td>\n",
              "      <td>2017.820427</td>\n",
              "      <td>7.423653</td>\n",
              "      <td>15.596995</td>\n",
              "      <td>0.025637</td>\n",
              "      <td>0.023349</td>\n",
              "      <td>0.153411</td>\n",
              "      <td>103.447208</td>\n",
              "      <td>0.619655</td>\n",
              "    </tr>\n",
              "    <tr>\n",
              "      <th>std</th>\n",
              "      <td>0.518715</td>\n",
              "      <td>0.402648</td>\n",
              "      <td>0.870644</td>\n",
              "      <td>1.410905</td>\n",
              "      <td>0.174079</td>\n",
              "      <td>85.930817</td>\n",
              "      <td>0.383836</td>\n",
              "      <td>3.069894</td>\n",
              "      <td>8.740447</td>\n",
              "      <td>0.158053</td>\n",
              "      <td>0.368331</td>\n",
              "      <td>1.754171</td>\n",
              "      <td>35.158417</td>\n",
              "      <td>0.786236</td>\n",
              "    </tr>\n",
              "    <tr>\n",
              "      <th>min</th>\n",
              "      <td>0.000000</td>\n",
              "      <td>0.000000</td>\n",
              "      <td>0.000000</td>\n",
              "      <td>0.000000</td>\n",
              "      <td>0.000000</td>\n",
              "      <td>0.000000</td>\n",
              "      <td>2017.000000</td>\n",
              "      <td>1.000000</td>\n",
              "      <td>1.000000</td>\n",
              "      <td>0.000000</td>\n",
              "      <td>0.000000</td>\n",
              "      <td>0.000000</td>\n",
              "      <td>0.000000</td>\n",
              "      <td>0.000000</td>\n",
              "    </tr>\n",
              "    <tr>\n",
              "      <th>25%</th>\n",
              "      <td>2.000000</td>\n",
              "      <td>0.000000</td>\n",
              "      <td>0.000000</td>\n",
              "      <td>1.000000</td>\n",
              "      <td>0.000000</td>\n",
              "      <td>17.000000</td>\n",
              "      <td>2018.000000</td>\n",
              "      <td>5.000000</td>\n",
              "      <td>8.000000</td>\n",
              "      <td>0.000000</td>\n",
              "      <td>0.000000</td>\n",
              "      <td>0.000000</td>\n",
              "      <td>80.300000</td>\n",
              "      <td>0.000000</td>\n",
              "    </tr>\n",
              "    <tr>\n",
              "      <th>50%</th>\n",
              "      <td>2.000000</td>\n",
              "      <td>0.000000</td>\n",
              "      <td>1.000000</td>\n",
              "      <td>2.000000</td>\n",
              "      <td>0.000000</td>\n",
              "      <td>57.000000</td>\n",
              "      <td>2018.000000</td>\n",
              "      <td>8.000000</td>\n",
              "      <td>16.000000</td>\n",
              "      <td>0.000000</td>\n",
              "      <td>0.000000</td>\n",
              "      <td>0.000000</td>\n",
              "      <td>99.450000</td>\n",
              "      <td>0.000000</td>\n",
              "    </tr>\n",
              "    <tr>\n",
              "      <th>75%</th>\n",
              "      <td>2.000000</td>\n",
              "      <td>0.000000</td>\n",
              "      <td>2.000000</td>\n",
              "      <td>3.000000</td>\n",
              "      <td>0.000000</td>\n",
              "      <td>126.000000</td>\n",
              "      <td>2018.000000</td>\n",
              "      <td>10.000000</td>\n",
              "      <td>23.000000</td>\n",
              "      <td>0.000000</td>\n",
              "      <td>0.000000</td>\n",
              "      <td>0.000000</td>\n",
              "      <td>120.275000</td>\n",
              "      <td>1.000000</td>\n",
              "    </tr>\n",
              "    <tr>\n",
              "      <th>max</th>\n",
              "      <td>4.000000</td>\n",
              "      <td>10.000000</td>\n",
              "      <td>7.000000</td>\n",
              "      <td>17.000000</td>\n",
              "      <td>1.000000</td>\n",
              "      <td>443.000000</td>\n",
              "      <td>2018.000000</td>\n",
              "      <td>12.000000</td>\n",
              "      <td>31.000000</td>\n",
              "      <td>1.000000</td>\n",
              "      <td>13.000000</td>\n",
              "      <td>58.000000</td>\n",
              "      <td>540.000000</td>\n",
              "      <td>5.000000</td>\n",
              "    </tr>\n",
              "  </tbody>\n",
              "</table>\n",
              "</div>"
            ],
            "text/plain": [
              "       no_of_adults  no_of_children  no_of_weekend_nights  no_of_week_nights  \\\n",
              "count  36275.000000    36275.000000          36275.000000       36275.000000   \n",
              "mean       1.844962        0.105279              0.810724           2.204300   \n",
              "std        0.518715        0.402648              0.870644           1.410905   \n",
              "min        0.000000        0.000000              0.000000           0.000000   \n",
              "25%        2.000000        0.000000              0.000000           1.000000   \n",
              "50%        2.000000        0.000000              1.000000           2.000000   \n",
              "75%        2.000000        0.000000              2.000000           3.000000   \n",
              "max        4.000000       10.000000              7.000000          17.000000   \n",
              "\n",
              "       required_car_parking_space     lead_time  arrival_year  arrival_month  \\\n",
              "count                35005.000000  36275.000000  36275.000000   36275.000000   \n",
              "mean                     0.031281     85.232557   2017.820427       7.423653   \n",
              "std                      0.174079     85.930817      0.383836       3.069894   \n",
              "min                      0.000000      0.000000   2017.000000       1.000000   \n",
              "25%                      0.000000     17.000000   2018.000000       5.000000   \n",
              "50%                      0.000000     57.000000   2018.000000       8.000000   \n",
              "75%                      0.000000    126.000000   2018.000000      10.000000   \n",
              "max                      1.000000    443.000000   2018.000000      12.000000   \n",
              "\n",
              "       arrival_date  repeated_guest  no_of_previous_cancellations  \\\n",
              "count  36275.000000    36275.000000                  36275.000000   \n",
              "mean      15.596995        0.025637                      0.023349   \n",
              "std        8.740447        0.158053                      0.368331   \n",
              "min        1.000000        0.000000                      0.000000   \n",
              "25%        8.000000        0.000000                      0.000000   \n",
              "50%       16.000000        0.000000                      0.000000   \n",
              "75%       23.000000        0.000000                      0.000000   \n",
              "max       31.000000        1.000000                     13.000000   \n",
              "\n",
              "       no_of_previous_bookings_not_canceled  avg_price_per_room  \\\n",
              "count                          36275.000000        34643.000000   \n",
              "mean                               0.153411          103.447208   \n",
              "std                                1.754171           35.158417   \n",
              "min                                0.000000            0.000000   \n",
              "25%                                0.000000           80.300000   \n",
              "50%                                0.000000           99.450000   \n",
              "75%                                0.000000          120.275000   \n",
              "max                               58.000000          540.000000   \n",
              "\n",
              "       no_of_special_requests  \n",
              "count            36275.000000  \n",
              "mean                 0.619655  \n",
              "std                  0.786236  \n",
              "min                  0.000000  \n",
              "25%                  0.000000  \n",
              "50%                  0.000000  \n",
              "75%                  1.000000  \n",
              "max                  5.000000  "
            ]
          },
          "execution_count": 10,
          "metadata": {},
          "output_type": "execute_result"
        }
      ],
      "source": [
        "df[numerical].describe()"
      ]
    },
    {
      "cell_type": "markdown",
      "id": "1f8215a9",
      "metadata": {},
      "source": [
        "Dari tabel diatas, tidak terlihat anomali (misalkan jumlah anak -2, tetapi hal tersebut tidak mungkin)"
      ]
    },
    {
      "cell_type": "markdown",
      "id": "643258ef",
      "metadata": {},
      "source": [
        "### Making input and output Data"
      ]
    },
    {
      "cell_type": "code",
      "execution_count": 11,
      "id": "cpdTEIgOJzJL",
      "metadata": {
        "id": "cpdTEIgOJzJL"
      },
      "outputs": [],
      "source": [
        "x = df.drop(columns=['Booking_ID', 'booking_status'], axis=1)\n",
        "y = df['booking_status']"
      ]
    },
    {
      "cell_type": "code",
      "execution_count": 12,
      "id": "1z5DKVgzJ8w5",
      "metadata": {
        "colab": {
          "base_uri": "https://localhost:8080/",
          "height": 0
        },
        "id": "1z5DKVgzJ8w5",
        "outputId": "f4a37340-56ee-45c9-9c36-691884262380"
      },
      "outputs": [
        {
          "data": {
            "text/html": [
              "<div>\n",
              "<style scoped>\n",
              "    .dataframe tbody tr th:only-of-type {\n",
              "        vertical-align: middle;\n",
              "    }\n",
              "\n",
              "    .dataframe tbody tr th {\n",
              "        vertical-align: top;\n",
              "    }\n",
              "\n",
              "    .dataframe thead th {\n",
              "        text-align: right;\n",
              "    }\n",
              "</style>\n",
              "<table border=\"1\" class=\"dataframe\">\n",
              "  <thead>\n",
              "    <tr style=\"text-align: right;\">\n",
              "      <th></th>\n",
              "      <th>no_of_adults</th>\n",
              "      <th>no_of_children</th>\n",
              "      <th>no_of_weekend_nights</th>\n",
              "      <th>no_of_week_nights</th>\n",
              "      <th>type_of_meal_plan</th>\n",
              "      <th>required_car_parking_space</th>\n",
              "      <th>room_type_reserved</th>\n",
              "      <th>lead_time</th>\n",
              "      <th>arrival_year</th>\n",
              "      <th>arrival_month</th>\n",
              "      <th>arrival_date</th>\n",
              "      <th>market_segment_type</th>\n",
              "      <th>repeated_guest</th>\n",
              "      <th>no_of_previous_cancellations</th>\n",
              "      <th>no_of_previous_bookings_not_canceled</th>\n",
              "      <th>avg_price_per_room</th>\n",
              "      <th>no_of_special_requests</th>\n",
              "    </tr>\n",
              "  </thead>\n",
              "  <tbody>\n",
              "    <tr>\n",
              "      <th>0</th>\n",
              "      <td>2</td>\n",
              "      <td>0</td>\n",
              "      <td>1</td>\n",
              "      <td>2</td>\n",
              "      <td>Meal Plan 1</td>\n",
              "      <td>0.0</td>\n",
              "      <td>Room_Type 1</td>\n",
              "      <td>224</td>\n",
              "      <td>2017</td>\n",
              "      <td>10</td>\n",
              "      <td>2</td>\n",
              "      <td>Offline</td>\n",
              "      <td>0</td>\n",
              "      <td>0</td>\n",
              "      <td>0</td>\n",
              "      <td>65.00</td>\n",
              "      <td>0</td>\n",
              "    </tr>\n",
              "    <tr>\n",
              "      <th>1</th>\n",
              "      <td>2</td>\n",
              "      <td>0</td>\n",
              "      <td>2</td>\n",
              "      <td>3</td>\n",
              "      <td>Not Selected</td>\n",
              "      <td>0.0</td>\n",
              "      <td>Room_Type 1</td>\n",
              "      <td>5</td>\n",
              "      <td>2018</td>\n",
              "      <td>11</td>\n",
              "      <td>6</td>\n",
              "      <td>Online</td>\n",
              "      <td>0</td>\n",
              "      <td>0</td>\n",
              "      <td>0</td>\n",
              "      <td>106.68</td>\n",
              "      <td>1</td>\n",
              "    </tr>\n",
              "    <tr>\n",
              "      <th>2</th>\n",
              "      <td>1</td>\n",
              "      <td>0</td>\n",
              "      <td>2</td>\n",
              "      <td>1</td>\n",
              "      <td>Meal Plan 1</td>\n",
              "      <td>0.0</td>\n",
              "      <td>Room_Type 1</td>\n",
              "      <td>1</td>\n",
              "      <td>2018</td>\n",
              "      <td>2</td>\n",
              "      <td>28</td>\n",
              "      <td>Online</td>\n",
              "      <td>0</td>\n",
              "      <td>0</td>\n",
              "      <td>0</td>\n",
              "      <td>60.00</td>\n",
              "      <td>0</td>\n",
              "    </tr>\n",
              "    <tr>\n",
              "      <th>3</th>\n",
              "      <td>2</td>\n",
              "      <td>0</td>\n",
              "      <td>0</td>\n",
              "      <td>2</td>\n",
              "      <td>Meal Plan 1</td>\n",
              "      <td>0.0</td>\n",
              "      <td>Room_Type 1</td>\n",
              "      <td>211</td>\n",
              "      <td>2018</td>\n",
              "      <td>5</td>\n",
              "      <td>20</td>\n",
              "      <td>Online</td>\n",
              "      <td>0</td>\n",
              "      <td>0</td>\n",
              "      <td>0</td>\n",
              "      <td>100.00</td>\n",
              "      <td>0</td>\n",
              "    </tr>\n",
              "    <tr>\n",
              "      <th>4</th>\n",
              "      <td>2</td>\n",
              "      <td>0</td>\n",
              "      <td>1</td>\n",
              "      <td>1</td>\n",
              "      <td>Not Selected</td>\n",
              "      <td>0.0</td>\n",
              "      <td>Room_Type 1</td>\n",
              "      <td>48</td>\n",
              "      <td>2018</td>\n",
              "      <td>4</td>\n",
              "      <td>11</td>\n",
              "      <td>Online</td>\n",
              "      <td>0</td>\n",
              "      <td>0</td>\n",
              "      <td>0</td>\n",
              "      <td>94.50</td>\n",
              "      <td>0</td>\n",
              "    </tr>\n",
              "  </tbody>\n",
              "</table>\n",
              "</div>"
            ],
            "text/plain": [
              "   no_of_adults  no_of_children  no_of_weekend_nights  no_of_week_nights  \\\n",
              "0             2               0                     1                  2   \n",
              "1             2               0                     2                  3   \n",
              "2             1               0                     2                  1   \n",
              "3             2               0                     0                  2   \n",
              "4             2               0                     1                  1   \n",
              "\n",
              "  type_of_meal_plan  required_car_parking_space room_type_reserved  lead_time  \\\n",
              "0       Meal Plan 1                         0.0        Room_Type 1        224   \n",
              "1      Not Selected                         0.0        Room_Type 1          5   \n",
              "2       Meal Plan 1                         0.0        Room_Type 1          1   \n",
              "3       Meal Plan 1                         0.0        Room_Type 1        211   \n",
              "4      Not Selected                         0.0        Room_Type 1         48   \n",
              "\n",
              "   arrival_year  arrival_month  arrival_date market_segment_type  \\\n",
              "0          2017             10             2             Offline   \n",
              "1          2018             11             6              Online   \n",
              "2          2018              2            28              Online   \n",
              "3          2018              5            20              Online   \n",
              "4          2018              4            11              Online   \n",
              "\n",
              "   repeated_guest  no_of_previous_cancellations  \\\n",
              "0               0                             0   \n",
              "1               0                             0   \n",
              "2               0                             0   \n",
              "3               0                             0   \n",
              "4               0                             0   \n",
              "\n",
              "   no_of_previous_bookings_not_canceled  avg_price_per_room  \\\n",
              "0                                     0               65.00   \n",
              "1                                     0              106.68   \n",
              "2                                     0               60.00   \n",
              "3                                     0              100.00   \n",
              "4                                     0               94.50   \n",
              "\n",
              "   no_of_special_requests  \n",
              "0                       0  \n",
              "1                       1  \n",
              "2                       0  \n",
              "3                       0  \n",
              "4                       0  "
            ]
          },
          "execution_count": 12,
          "metadata": {},
          "output_type": "execute_result"
        }
      ],
      "source": [
        "x.head()"
      ]
    },
    {
      "cell_type": "code",
      "execution_count": 13,
      "id": "WV9laxA_J919",
      "metadata": {
        "colab": {
          "base_uri": "https://localhost:8080/",
          "height": 0
        },
        "id": "WV9laxA_J919",
        "outputId": "e9050b52-e1fa-42a1-8e88-c3404b7710e4"
      },
      "outputs": [
        {
          "data": {
            "text/plain": [
              "0    Not_Canceled\n",
              "1    Not_Canceled\n",
              "2        Canceled\n",
              "3        Canceled\n",
              "4        Canceled\n",
              "Name: booking_status, dtype: object"
            ]
          },
          "execution_count": 13,
          "metadata": {},
          "output_type": "execute_result"
        }
      ],
      "source": [
        "y.head()"
      ]
    },
    {
      "cell_type": "markdown",
      "id": "b044481b",
      "metadata": {},
      "source": [
        "Bagian ini memisahkan dataframe menjadi 2, yaitu x yang akan menjadi input dan y yang menjadi output. \n",
        "\n",
        "Booking_ID tidak akan digunakan dalam model machine learning ini karena hanya berupa penanda/index yang membedakan order setiap tamu, tetapi tidak memiliki dampak apapun kepada model machine learning ini"
      ]
    },
    {
      "cell_type": "markdown",
      "id": "650480e6",
      "metadata": {},
      "source": [
        "### Splitting data into Train and Test"
      ]
    },
    {
      "cell_type": "code",
      "execution_count": 14,
      "id": "YTgyDBT-KD1H",
      "metadata": {
        "colab": {
          "base_uri": "https://localhost:8080/",
          "height": 0
        },
        "id": "YTgyDBT-KD1H",
        "outputId": "27f55ca4-3516-46e5-80ac-dfddbad112a7"
      },
      "outputs": [
        {
          "data": {
            "text/html": [
              "<div>\n",
              "<style scoped>\n",
              "    .dataframe tbody tr th:only-of-type {\n",
              "        vertical-align: middle;\n",
              "    }\n",
              "\n",
              "    .dataframe tbody tr th {\n",
              "        vertical-align: top;\n",
              "    }\n",
              "\n",
              "    .dataframe thead th {\n",
              "        text-align: right;\n",
              "    }\n",
              "</style>\n",
              "<table border=\"1\" class=\"dataframe\">\n",
              "  <thead>\n",
              "    <tr style=\"text-align: right;\">\n",
              "      <th></th>\n",
              "      <th>no_of_adults</th>\n",
              "      <th>no_of_children</th>\n",
              "      <th>no_of_weekend_nights</th>\n",
              "      <th>no_of_week_nights</th>\n",
              "      <th>type_of_meal_plan</th>\n",
              "      <th>required_car_parking_space</th>\n",
              "      <th>room_type_reserved</th>\n",
              "      <th>lead_time</th>\n",
              "      <th>arrival_year</th>\n",
              "      <th>arrival_month</th>\n",
              "      <th>arrival_date</th>\n",
              "      <th>market_segment_type</th>\n",
              "      <th>repeated_guest</th>\n",
              "      <th>no_of_previous_cancellations</th>\n",
              "      <th>no_of_previous_bookings_not_canceled</th>\n",
              "      <th>avg_price_per_room</th>\n",
              "      <th>no_of_special_requests</th>\n",
              "    </tr>\n",
              "  </thead>\n",
              "  <tbody>\n",
              "    <tr>\n",
              "      <th>25629</th>\n",
              "      <td>2</td>\n",
              "      <td>1</td>\n",
              "      <td>2</td>\n",
              "      <td>1</td>\n",
              "      <td>Meal Plan 1</td>\n",
              "      <td>0.0</td>\n",
              "      <td>Room_Type 1</td>\n",
              "      <td>26</td>\n",
              "      <td>2017</td>\n",
              "      <td>10</td>\n",
              "      <td>17</td>\n",
              "      <td>Online</td>\n",
              "      <td>0</td>\n",
              "      <td>0</td>\n",
              "      <td>0</td>\n",
              "      <td>161.00</td>\n",
              "      <td>0</td>\n",
              "    </tr>\n",
              "    <tr>\n",
              "      <th>14473</th>\n",
              "      <td>2</td>\n",
              "      <td>1</td>\n",
              "      <td>1</td>\n",
              "      <td>1</td>\n",
              "      <td>Meal Plan 1</td>\n",
              "      <td>0.0</td>\n",
              "      <td>Room_Type 1</td>\n",
              "      <td>98</td>\n",
              "      <td>2018</td>\n",
              "      <td>7</td>\n",
              "      <td>16</td>\n",
              "      <td>Online</td>\n",
              "      <td>0</td>\n",
              "      <td>0</td>\n",
              "      <td>0</td>\n",
              "      <td>121.50</td>\n",
              "      <td>2</td>\n",
              "    </tr>\n",
              "    <tr>\n",
              "      <th>23720</th>\n",
              "      <td>2</td>\n",
              "      <td>0</td>\n",
              "      <td>0</td>\n",
              "      <td>3</td>\n",
              "      <td>Meal Plan 1</td>\n",
              "      <td>0.0</td>\n",
              "      <td>Room_Type 1</td>\n",
              "      <td>433</td>\n",
              "      <td>2018</td>\n",
              "      <td>9</td>\n",
              "      <td>8</td>\n",
              "      <td>Offline</td>\n",
              "      <td>0</td>\n",
              "      <td>0</td>\n",
              "      <td>0</td>\n",
              "      <td>70.00</td>\n",
              "      <td>0</td>\n",
              "    </tr>\n",
              "    <tr>\n",
              "      <th>5843</th>\n",
              "      <td>2</td>\n",
              "      <td>0</td>\n",
              "      <td>2</td>\n",
              "      <td>5</td>\n",
              "      <td>Meal Plan 1</td>\n",
              "      <td>0.0</td>\n",
              "      <td>Room_Type 1</td>\n",
              "      <td>195</td>\n",
              "      <td>2018</td>\n",
              "      <td>8</td>\n",
              "      <td>8</td>\n",
              "      <td>Offline</td>\n",
              "      <td>0</td>\n",
              "      <td>0</td>\n",
              "      <td>0</td>\n",
              "      <td>72.25</td>\n",
              "      <td>0</td>\n",
              "    </tr>\n",
              "    <tr>\n",
              "      <th>18709</th>\n",
              "      <td>1</td>\n",
              "      <td>0</td>\n",
              "      <td>0</td>\n",
              "      <td>2</td>\n",
              "      <td>Meal Plan 1</td>\n",
              "      <td>0.0</td>\n",
              "      <td>Room_Type 1</td>\n",
              "      <td>188</td>\n",
              "      <td>2018</td>\n",
              "      <td>6</td>\n",
              "      <td>15</td>\n",
              "      <td>Offline</td>\n",
              "      <td>0</td>\n",
              "      <td>0</td>\n",
              "      <td>0</td>\n",
              "      <td>130.00</td>\n",
              "      <td>0</td>\n",
              "    </tr>\n",
              "  </tbody>\n",
              "</table>\n",
              "</div>"
            ],
            "text/plain": [
              "       no_of_adults  no_of_children  no_of_weekend_nights  no_of_week_nights  \\\n",
              "25629             2               1                     2                  1   \n",
              "14473             2               1                     1                  1   \n",
              "23720             2               0                     0                  3   \n",
              "5843              2               0                     2                  5   \n",
              "18709             1               0                     0                  2   \n",
              "\n",
              "      type_of_meal_plan  required_car_parking_space room_type_reserved  \\\n",
              "25629       Meal Plan 1                         0.0        Room_Type 1   \n",
              "14473       Meal Plan 1                         0.0        Room_Type 1   \n",
              "23720       Meal Plan 1                         0.0        Room_Type 1   \n",
              "5843        Meal Plan 1                         0.0        Room_Type 1   \n",
              "18709       Meal Plan 1                         0.0        Room_Type 1   \n",
              "\n",
              "       lead_time  arrival_year  arrival_month  arrival_date  \\\n",
              "25629         26          2017             10            17   \n",
              "14473         98          2018              7            16   \n",
              "23720        433          2018              9             8   \n",
              "5843         195          2018              8             8   \n",
              "18709        188          2018              6            15   \n",
              "\n",
              "      market_segment_type  repeated_guest  no_of_previous_cancellations  \\\n",
              "25629              Online               0                             0   \n",
              "14473              Online               0                             0   \n",
              "23720             Offline               0                             0   \n",
              "5843              Offline               0                             0   \n",
              "18709             Offline               0                             0   \n",
              "\n",
              "       no_of_previous_bookings_not_canceled  avg_price_per_room  \\\n",
              "25629                                     0              161.00   \n",
              "14473                                     0              121.50   \n",
              "23720                                     0               70.00   \n",
              "5843                                      0               72.25   \n",
              "18709                                     0              130.00   \n",
              "\n",
              "       no_of_special_requests  \n",
              "25629                       0  \n",
              "14473                       2  \n",
              "23720                       0  \n",
              "5843                        0  \n",
              "18709                       0  "
            ]
          },
          "execution_count": 14,
          "metadata": {},
          "output_type": "execute_result"
        }
      ],
      "source": [
        "xTrain, xTest, yTrain, yTest = train_test_split(x, y, test_size=0.2, random_state = 42)\n",
        "xTrain.head()"
      ]
    },
    {
      "cell_type": "markdown",
      "id": "5db7033a",
      "metadata": {},
      "source": [
        "Menggunakan function train_test_split, data x dan y akan dipisah menjadi 80% train dan 20% test. random_state digunakan untuk memastikan saat model di run ulang, hasil split yang didapatkan itu sama."
      ]
    },
    {
      "cell_type": "markdown",
      "id": "37604ea0",
      "metadata": {},
      "source": [
        "### Filling Null data"
      ]
    },
    {
      "cell_type": "markdown",
      "id": "1808f261",
      "metadata": {},
      "source": [
        "#### Numerical data"
      ]
    },
    {
      "cell_type": "code",
      "execution_count": 15,
      "id": "3X4LGUSNK8xG",
      "metadata": {
        "colab": {
          "base_uri": "https://localhost:8080/",
          "height": 0
        },
        "id": "3X4LGUSNK8xG",
        "outputId": "c6e37362-eec4-4744-d35d-4581101223a8"
      },
      "outputs": [
        {
          "data": {
            "image/png": "[encoded data removed]",
            "text/plain": [
              "<Figure size 800x800 with 1 Axes>"
            ]
          },
          "metadata": {},
          "output_type": "display_data"
        }
      ],
      "source": [
        "plt.figure(figsize=(8, 8))\n",
        "xTrain.boxplot(column=['required_car_parking_space', 'avg_price_per_room'])\n",
        "plt.show()"
      ]
    },
    {
      "cell_type": "markdown",
      "id": "e73860e4",
      "metadata": {},
      "source": [
        "dari boxplot untuk kedua data numerikal yang memiliki NULL (required_car_parking_space dan avg_price_per_room), dapat dilihat terdapat banyak outlier untuk keduanya, hal ini ditandai dengan keberadaan lingkaran hitam pada plot yang berjumlah banyak. Oleh karena itu, saya akan menggunakan median untuk fill NULL tersebut"
      ]
    },
    {
      "cell_type": "code",
      "execution_count": 16,
      "id": "DvH8NESFLNtd",
      "metadata": {
        "colab": {
          "base_uri": "https://localhost:8080/"
        },
        "id": "DvH8NESFLNtd",
        "outputId": "b69bc0c7-96c0-4fc5-c966-2485e9034687"
      },
      "outputs": [
        {
          "name": "stdout",
          "output_type": "stream",
          "text": [
            "nan\n",
            "nan\n"
          ]
        }
      ],
      "source": [
        "carParking = np.median(xTrain['required_car_parking_space'])\n",
        "avgPrice = np.median(xTrain['avg_price_per_room'])\n",
        "\n",
        "print(carParking)\n",
        "print(avgPrice)"
      ]
    },
    {
      "cell_type": "markdown",
      "id": "215d36a4",
      "metadata": {},
      "source": [
        "Dari hasil perhitungan diatas, dapat dilihat ternyata median untuk kedua data adalah nan, sehingga data xTrain akan dimodifikasi"
      ]
    },
    {
      "cell_type": "code",
      "execution_count": 17,
      "id": "YbqoCTurMEFq",
      "metadata": {
        "colab": {
          "base_uri": "https://localhost:8080/"
        },
        "id": "YbqoCTurMEFq",
        "outputId": "e80fbb24-64ff-44ce-c0ac-da8b6646a61a"
      },
      "outputs": [
        {
          "name": "stdout",
          "output_type": "stream",
          "text": [
            "0.0\n",
            "99.9\n"
          ]
        }
      ],
      "source": [
        "carParking = np.median(xTrain['required_car_parking_space'].dropna())\n",
        "avgPrice = np.median(xTrain['avg_price_per_room'].dropna())\n",
        "\n",
        "print(carParking)\n",
        "print(avgPrice)"
      ]
    },
    {
      "cell_type": "markdown",
      "id": "faebbc42",
      "metadata": {},
      "source": [
        "Agar dapat mendapatkan hasil median dari data xTrain, dropna harus di-apply terhadap xTrain agar tidak mendapatkan hasil nan lagi. Lalu didapatlah nilai median, yaitu 0 untuk required_car_parking_space dan 99.9 untuk avg_price_per_room."
      ]
    },
    {
      "cell_type": "markdown",
      "id": "30cd139e",
      "metadata": {},
      "source": [
        "#### Kategorikal"
      ]
    },
    {
      "cell_type": "code",
      "execution_count": 18,
      "id": "6-oQk-6lKR4x",
      "metadata": {
        "colab": {
          "base_uri": "https://localhost:8080/"
        },
        "id": "6-oQk-6lKR4x",
        "outputId": "1620591d-f85e-4e5f-ff26-c089567136f3"
      },
      "outputs": [
        {
          "data": {
            "text/plain": [
              "'Meal Plan 1'"
            ]
          },
          "execution_count": 18,
          "metadata": {},
          "output_type": "execute_result"
        }
      ],
      "source": [
        "mealPlan = statistics.mode(xTrain['type_of_meal_plan'])\n",
        "mealPlan"
      ]
    },
    {
      "cell_type": "markdown",
      "id": "a20f6fda",
      "metadata": {},
      "source": [
        "Dengan menggunakan function statistics.mode, diperoleh hasil modus untuk kolom type_of_meal_plan, yaitu Meal Plan 1"
      ]
    },
    {
      "cell_type": "code",
      "execution_count": 19,
      "id": "lyOzMdeAOBe5",
      "metadata": {
        "id": "lyOzMdeAOBe5"
      },
      "outputs": [],
      "source": [
        "xTrain['required_car_parking_space'] = xTrain['required_car_parking_space'].fillna(0)\n",
        "xTrain['avg_price_per_room'] = xTrain['avg_price_per_room'].fillna(99.9)\n",
        "xTrain['type_of_meal_plan'] = xTrain['type_of_meal_plan'].fillna('Meal Plan 1')\n",
        "\n",
        "xTest['required_car_parking_space'] = xTest['required_car_parking_space'].fillna(0)\n",
        "xTest['avg_price_per_room'] = xTest['avg_price_per_room'].fillna(99.9)\n",
        "xTest['type_of_meal_plan'] = xTest['type_of_meal_plan'].fillna('Meal Plan 1')"
      ]
    },
    {
      "cell_type": "markdown",
      "id": "83189496",
      "metadata": {},
      "source": [
        "Setelah mendapatkan hasil median dan modus untuk setiap kolom, kedua data xTrain dan xTest di-impute sesuai dengan data yang telah kita terima"
      ]
    },
    {
      "cell_type": "code",
      "execution_count": 20,
      "id": "Cm0HAHWVOkkJ",
      "metadata": {
        "colab": {
          "base_uri": "https://localhost:8080/"
        },
        "id": "Cm0HAHWVOkkJ",
        "outputId": "bdda4508-e92e-4bcd-8301-7fc1673f2d4b"
      },
      "outputs": [
        {
          "data": {
            "text/plain": [
              "no_of_adults                            0\n",
              "no_of_children                          0\n",
              "no_of_weekend_nights                    0\n",
              "no_of_week_nights                       0\n",
              "type_of_meal_plan                       0\n",
              "required_car_parking_space              0\n",
              "room_type_reserved                      0\n",
              "lead_time                               0\n",
              "arrival_year                            0\n",
              "arrival_month                           0\n",
              "arrival_date                            0\n",
              "market_segment_type                     0\n",
              "repeated_guest                          0\n",
              "no_of_previous_cancellations            0\n",
              "no_of_previous_bookings_not_canceled    0\n",
              "avg_price_per_room                      0\n",
              "no_of_special_requests                  0\n",
              "dtype: int64"
            ]
          },
          "execution_count": 20,
          "metadata": {},
          "output_type": "execute_result"
        }
      ],
      "source": [
        "xTrain.isna().sum()"
      ]
    },
    {
      "cell_type": "code",
      "execution_count": 21,
      "id": "6rZzUc7COz9p",
      "metadata": {
        "colab": {
          "base_uri": "https://localhost:8080/"
        },
        "id": "6rZzUc7COz9p",
        "outputId": "a9b1205f-7c6d-4f5a-cc09-7eac08ef7e1e"
      },
      "outputs": [
        {
          "data": {
            "text/plain": [
              "no_of_adults                            0\n",
              "no_of_children                          0\n",
              "no_of_weekend_nights                    0\n",
              "no_of_week_nights                       0\n",
              "type_of_meal_plan                       0\n",
              "required_car_parking_space              0\n",
              "room_type_reserved                      0\n",
              "lead_time                               0\n",
              "arrival_year                            0\n",
              "arrival_month                           0\n",
              "arrival_date                            0\n",
              "market_segment_type                     0\n",
              "repeated_guest                          0\n",
              "no_of_previous_cancellations            0\n",
              "no_of_previous_bookings_not_canceled    0\n",
              "avg_price_per_room                      0\n",
              "no_of_special_requests                  0\n",
              "dtype: int64"
            ]
          },
          "execution_count": 21,
          "metadata": {},
          "output_type": "execute_result"
        }
      ],
      "source": [
        "xTest.isna().sum()"
      ]
    },
    {
      "cell_type": "markdown",
      "id": "98a8fff1",
      "metadata": {},
      "source": [
        "Disini saya memastikan kembali setiap row pada xTrain dan xTest sudah terimpute dan tidak memiliki data NULL lagi. "
      ]
    },
    {
      "cell_type": "markdown",
      "id": "c9287b4e",
      "metadata": {},
      "source": [
        "### Encoding"
      ]
    },
    {
      "cell_type": "markdown",
      "id": "d0c11f4e",
      "metadata": {},
      "source": [
        "#### Encoding y (output) values"
      ]
    },
    {
      "cell_type": "markdown",
      "id": "710af965",
      "metadata": {},
      "source": [
        "Kedua model yang tertera, yaitu RandomForestClassifier dan XGBClassifier membutuhkan input dan output yang berupa numerical. Oleh karena itu, output yang ada pada dataset ini (yTrain dan yTest) juga harus di encode."
      ]
    },
    {
      "cell_type": "code",
      "execution_count": 22,
      "id": "2oYimcpXUcuk",
      "metadata": {
        "colab": {
          "base_uri": "https://localhost:8080/",
          "height": 0
        },
        "id": "2oYimcpXUcuk",
        "outputId": "7a613dd0-19d9-44e4-87c2-a768caf4cef7"
      },
      "outputs": [
        {
          "name": "stdout",
          "output_type": "stream",
          "text": [
            "['Canceled' 'Not_Canceled']\n",
            "['Canceled' 'Not_Canceled']\n"
          ]
        }
      ],
      "source": [
        "print(np.unique(yTrain))\n",
        "print(np.unique(yTest))"
      ]
    },
    {
      "cell_type": "markdown",
      "id": "af9421f4",
      "metadata": {},
      "source": [
        "Dapat dilihat, kedua yTrain dan yTest memiliki value yang sama yaitu 'Canceled' dan 'Not_Canceled'. Karena output hanya ada 2, maka soal ini merupakan Binary Classification dan LabelEncoder akan digunakan untuk membuat data menjadi binary (0/1)"
      ]
    },
    {
      "cell_type": "code",
      "execution_count": 23,
      "id": "SisBgaa8TvTX",
      "metadata": {
        "colab": {
          "base_uri": "https://localhost:8080/"
        },
        "id": "SisBgaa8TvTX",
        "outputId": "a5159922-1640-47b0-bb41-a957db11bdbb"
      },
      "outputs": [],
      "source": [
        "bookingStatsEncoder = LabelEncoder()\n",
        "\n",
        "yTrain = bookingStatsEncoder.fit_transform(yTrain)\n",
        "yTest = bookingStatsEncoder.transform(yTest)"
      ]
    },
    {
      "cell_type": "code",
      "execution_count": 24,
      "id": "363dd45e",
      "metadata": {},
      "outputs": [
        {
          "name": "stdout",
          "output_type": "stream",
          "text": [
            "[0 1]\n",
            "[0 1]\n"
          ]
        }
      ],
      "source": [
        "print(np.unique(yTrain))\n",
        "print(np.unique(yTest))"
      ]
    },
    {
      "cell_type": "markdown",
      "id": "ec834ec3",
      "metadata": {},
      "source": [
        "Seteleh encoding, yTrain dan yTest menjadi 0 dan 1, bukan 'Canceled' dan 'Not_Canceled', sehingga data yTrain dan yTest sudah bisa digunakan untuk machine learning."
      ]
    },
    {
      "cell_type": "markdown",
      "id": "3c2ee23d",
      "metadata": {},
      "source": [
        "#### Encoding x (input) values"
      ]
    },
    {
      "cell_type": "code",
      "execution_count": 25,
      "id": "Dn1WFqmwPrii",
      "metadata": {
        "id": "Dn1WFqmwPrii"
      },
      "outputs": [],
      "source": [
        "mealPlanEncTrain = xTrain[['type_of_meal_plan']]\n",
        "roomTypeEncTrain = xTrain[['room_type_reserved']]\n",
        "marketSegmentEncTrain = xTrain[['market_segment_type']]\n",
        "\n",
        "mealPlanEncTest = xTest[['type_of_meal_plan']]\n",
        "roomTypeEncTest = xTest[['room_type_reserved']]\n",
        "marketSegmentEncTest = xTest[['market_segment_type']]\n",
        "\n",
        "mealPlanEncoder = OneHotEncoder()\n",
        "roomTypeEncoder = OneHotEncoder()\n",
        "marketSegmentEncoder = OneHotEncoder()"
      ]
    },
    {
      "cell_type": "markdown",
      "id": "84d36e04",
      "metadata": {},
      "source": [
        "Seperti yang terdapat pada bagian value_counts, karena type_of_meal_plan, room_type_reserved, dan market_segment_type memiliki beberapa value, maka OneHotEncoder akan digunakan untuk meng-encode categorical value tersebut."
      ]
    },
    {
      "cell_type": "code",
      "execution_count": null,
      "id": "1Hhc2M3DQTgG",
      "metadata": {
        "id": "1Hhc2M3DQTgG"
      },
      "outputs": [],
      "source": [
        "mealPlanEncTrain = pd.DataFrame(mealPlanEncoder.fit_transform(mealPlanEncTrain).toarray(), columns=mealPlanEncoder.get_feature_names_out())\n",
        "roomTypeEncTrain = pd.DataFrame(roomTypeEncoder.fit_transform(roomTypeEncTrain).toarray(), columns=roomTypeEncoder.get_feature_names_out())\n",
        "marketSegmentEncTrain = pd.DataFrame(marketSegmentEncoder.fit_transform(marketSegmentEncTrain).toarray(), columns=marketSegmentEncoder.get_feature_names_out())\n",
        "\n",
        "mealPlanEncTest = pd.DataFrame(mealPlanEncoder.transform(mealPlanEncTest).toarray(), columns=mealPlanEncoder.get_feature_names_out())\n",
        "roomTypeEncTest = pd.DataFrame(roomTypeEncoder.transform(roomTypeEncTest).toarray(), columns=roomTypeEncoder.get_feature_names_out())\n",
        "marketSegmentEncTest = pd.DataFrame(marketSegmentEncoder.transform(marketSegmentEncTest).toarray(), columns=marketSegmentEncoder.get_feature_names_out())"
      ]
    },
    {
      "cell_type": "markdown",
      "id": "1e348009",
      "metadata": {},
      "source": [
        "Membuat dataframe untuk setiap kolom kategorikal yang diencode untuk di concatenate dengan dataframe xTrain dan xTest nantinya.\n",
        "\n",
        "toarray() digunakan karena output dari fit_transform dan transform OneHotEncoder berupa csr_matrix, sehingga harus di ganti tipenya dengan bantuan function to array sebelum dapat dibuat menjadi dataframe"
      ]
    },
    {
      "cell_type": "code",
      "execution_count": 27,
      "id": "_lhbunm0ST8K",
      "metadata": {
        "id": "_lhbunm0ST8K"
      },
      "outputs": [],
      "source": [
        "xTrain = xTrain.reset_index()\n",
        "xTest = xTest.reset_index()\n",
        "\n",
        "xTrain = pd.concat([xTrain, mealPlanEncTrain, roomTypeEncTrain, marketSegmentEncTrain], axis=1)\n",
        "xTest = pd.concat([xTest, mealPlanEncTest, roomTypeEncTest, marketSegmentEncTest], axis=1)"
      ]
    },
    {
      "cell_type": "markdown",
      "id": "d4dda57f",
      "metadata": {},
      "source": [
        "reset_index digunakan untuk mereset index xTrain dan xTest, karena saat splitting data, index kemungkinan akan teracak, sehingga reset_index akan membuat index data kembali dari 0 hingga jumlah data. \n",
        "\n",
        "Concatenate akan dilakukan sesuai dengan index yang ada. Misalkan tidak reset_index, bisa jadi data tergabung pada row yang salah dan dapat mengakibatkan munculnya NULL dalam dataset karena index yang tidak match tersebut."
      ]
    },
    {
      "cell_type": "code",
      "execution_count": 28,
      "id": "ToGm9lopStAW",
      "metadata": {
        "colab": {
          "base_uri": "https://localhost:8080/",
          "height": 0
        },
        "id": "ToGm9lopStAW",
        "outputId": "094a9339-1e7b-48dd-ce67-5fb4dcde7894"
      },
      "outputs": [
        {
          "name": "stdout",
          "output_type": "stream",
          "text": [
            "index                                   0\n",
            "no_of_adults                            0\n",
            "no_of_children                          0\n",
            "no_of_weekend_nights                    0\n",
            "no_of_week_nights                       0\n",
            "type_of_meal_plan                       0\n",
            "required_car_parking_space              0\n",
            "room_type_reserved                      0\n",
            "lead_time                               0\n",
            "arrival_year                            0\n",
            "arrival_month                           0\n",
            "arrival_date                            0\n",
            "market_segment_type                     0\n",
            "repeated_guest                          0\n",
            "no_of_previous_cancellations            0\n",
            "no_of_previous_bookings_not_canceled    0\n",
            "avg_price_per_room                      0\n",
            "no_of_special_requests                  0\n",
            "type_of_meal_plan_Meal Plan 1           0\n",
            "type_of_meal_plan_Meal Plan 2           0\n",
            "type_of_meal_plan_Meal Plan 3           0\n",
            "type_of_meal_plan_Not Selected          0\n",
            "room_type_reserved_Room_Type 1          0\n",
            "room_type_reserved_Room_Type 2          0\n",
            "room_type_reserved_Room_Type 3          0\n",
            "room_type_reserved_Room_Type 4          0\n",
            "room_type_reserved_Room_Type 5          0\n",
            "room_type_reserved_Room_Type 6          0\n",
            "room_type_reserved_Room_Type 7          0\n",
            "market_segment_type_Aviation            0\n",
            "market_segment_type_Complementary       0\n",
            "market_segment_type_Corporate           0\n",
            "market_segment_type_Offline             0\n",
            "market_segment_type_Online              0\n",
            "dtype: int64\n",
            "\n",
            "index                                   0\n",
            "no_of_adults                            0\n",
            "no_of_children                          0\n",
            "no_of_weekend_nights                    0\n",
            "no_of_week_nights                       0\n",
            "type_of_meal_plan                       0\n",
            "required_car_parking_space              0\n",
            "room_type_reserved                      0\n",
            "lead_time                               0\n",
            "arrival_year                            0\n",
            "arrival_month                           0\n",
            "arrival_date                            0\n",
            "market_segment_type                     0\n",
            "repeated_guest                          0\n",
            "no_of_previous_cancellations            0\n",
            "no_of_previous_bookings_not_canceled    0\n",
            "avg_price_per_room                      0\n",
            "no_of_special_requests                  0\n",
            "type_of_meal_plan_Meal Plan 1           0\n",
            "type_of_meal_plan_Meal Plan 2           0\n",
            "type_of_meal_plan_Meal Plan 3           0\n",
            "type_of_meal_plan_Not Selected          0\n",
            "room_type_reserved_Room_Type 1          0\n",
            "room_type_reserved_Room_Type 2          0\n",
            "room_type_reserved_Room_Type 3          0\n",
            "room_type_reserved_Room_Type 4          0\n",
            "room_type_reserved_Room_Type 5          0\n",
            "room_type_reserved_Room_Type 6          0\n",
            "room_type_reserved_Room_Type 7          0\n",
            "market_segment_type_Aviation            0\n",
            "market_segment_type_Complementary       0\n",
            "market_segment_type_Corporate           0\n",
            "market_segment_type_Offline             0\n",
            "market_segment_type_Online              0\n",
            "dtype: int64\n"
          ]
        }
      ],
      "source": [
        "print(xTrain.isna().sum())\n",
        "\n",
        "print()\n",
        "\n",
        "print(xTest.isna().sum())"
      ]
    },
    {
      "cell_type": "markdown",
      "id": "7d09fa5a",
      "metadata": {},
      "source": [
        "Encoding telah berhasil dilakukan dan tidak terdapat NULL pada dataset setelah concat dilakukan"
      ]
    },
    {
      "cell_type": "code",
      "execution_count": 29,
      "id": "ef7b0dcc",
      "metadata": {},
      "outputs": [],
      "source": [
        "binaryEncoder = {'required_car_parking_space' : {\n",
        "        'Yes' : 1, \n",
        "        'No' : 0\n",
        "    }, \n",
        "    'repeated_guest' : {\n",
        "        'Yes' : 1, \n",
        "        'No' : 0\n",
        "    }\n",
        "}\n",
        "\n",
        "xTrain = xTrain.replace(binaryEncoder)\n",
        "xTest = xTest.replace(binaryEncoder)"
      ]
    },
    {
      "cell_type": "markdown",
      "id": "9829220c",
      "metadata": {},
      "source": [
        "Encoder diatas merupakan encoder manual, jika terdapat input yang bukan merupakan 1/0, tetapi Yes/No untuk kolom required_car_parking_space dan repeated_guest"
      ]
    },
    {
      "cell_type": "markdown",
      "id": "ff337e92",
      "metadata": {},
      "source": [
        "### Saving encoder as pickle"
      ]
    },
    {
      "cell_type": "code",
      "execution_count": 30,
      "id": "Di3xeWKHbDxz",
      "metadata": {
        "id": "Di3xeWKHbDxz"
      },
      "outputs": [],
      "source": [
        "bookingStatsFileName = 'bookingStatsEncode.pkl'\n",
        "mealPlanFileName = 'mealPlanEncode.pkl'\n",
        "roomTypeFileName = 'roomTypeEncode.pkl'\n",
        "marketSegmentFileName = 'marketSegmentEncode.pkl'\n",
        "binaryEncFileName = 'binaryEncode.pkl'\n",
        "\n",
        "pkl.dump(bookingStatsEncoder, open(bookingStatsFileName, 'wb'))\n",
        "pkl.dump(mealPlanEncoder, open(mealPlanFileName, 'wb'))\n",
        "pkl.dump(roomTypeEncoder, open(roomTypeFileName, 'wb'))\n",
        "pkl.dump(marketSegmentEncoder, open(marketSegmentFileName, 'wb'))\n",
        "pkl.dump(binaryEncoder, open(binaryEncFileName, 'wb'))\n"
      ]
    },
    {
      "cell_type": "markdown",
      "id": "c2ad29ee",
      "metadata": {},
      "source": [
        "Encoder yang digunakan dalam machine learning ini, akan disimpan sebagai pickle agar dapat digunakan tanpa harus mengencode kembali. "
      ]
    },
    {
      "cell_type": "markdown",
      "id": "XTmJumI6cHIC",
      "metadata": {
        "id": "XTmJumI6cHIC"
      },
      "source": [
        "## B. Model Learning and Training"
      ]
    },
    {
      "cell_type": "markdown",
      "id": "1de80b6a",
      "metadata": {},
      "source": [
        "### Data Preparation"
      ]
    },
    {
      "cell_type": "code",
      "execution_count": 31,
      "id": "JqaE-ILkezuv",
      "metadata": {
        "id": "JqaE-ILkezuv"
      },
      "outputs": [],
      "source": [
        "yCheck = bookingStatsEncoder.inverse_transform(yTest)"
      ]
    },
    {
      "cell_type": "markdown",
      "id": "4800c54c",
      "metadata": {},
      "source": [
        "yCheck akan digunakan untuk classification_report nantinya, karena data telah di transform, maka hasil output harus di inverse_transform agar memiliki value yang sama seperti awal. Misalkan pada soal ini, 1 untuk Canceled dan 0 untuk Not Canceled. \\\n",
        "Agar output berupa Not Canceled bukan 0, maka harus dilakukan inverse Transform"
      ]
    },
    {
      "cell_type": "code",
      "execution_count": 32,
      "id": "5371f176",
      "metadata": {},
      "outputs": [
        {
          "name": "stdout",
          "output_type": "stream",
          "text": [
            "Index(['index', 'no_of_adults', 'no_of_children', 'no_of_weekend_nights',\n",
            "       'no_of_week_nights', 'type_of_meal_plan', 'required_car_parking_space',\n",
            "       'room_type_reserved', 'lead_time', 'arrival_year', 'arrival_month',\n",
            "       'arrival_date', 'market_segment_type', 'repeated_guest',\n",
            "       'no_of_previous_cancellations', 'no_of_previous_bookings_not_canceled',\n",
            "       'avg_price_per_room', 'no_of_special_requests',\n",
            "       'type_of_meal_plan_Meal Plan 1', 'type_of_meal_plan_Meal Plan 2',\n",
            "       'type_of_meal_plan_Meal Plan 3', 'type_of_meal_plan_Not Selected',\n",
            "       'room_type_reserved_Room_Type 1', 'room_type_reserved_Room_Type 2',\n",
            "       'room_type_reserved_Room_Type 3', 'room_type_reserved_Room_Type 4',\n",
            "       'room_type_reserved_Room_Type 5', 'room_type_reserved_Room_Type 6',\n",
            "       'room_type_reserved_Room_Type 7', 'market_segment_type_Aviation',\n",
            "       'market_segment_type_Complementary', 'market_segment_type_Corporate',\n",
            "       'market_segment_type_Offline', 'market_segment_type_Online'],\n",
            "      dtype='object')\n",
            "Index(['index', 'no_of_adults', 'no_of_children', 'no_of_weekend_nights',\n",
            "       'no_of_week_nights', 'type_of_meal_plan', 'required_car_parking_space',\n",
            "       'room_type_reserved', 'lead_time', 'arrival_year', 'arrival_month',\n",
            "       'arrival_date', 'market_segment_type', 'repeated_guest',\n",
            "       'no_of_previous_cancellations', 'no_of_previous_bookings_not_canceled',\n",
            "       'avg_price_per_room', 'no_of_special_requests',\n",
            "       'type_of_meal_plan_Meal Plan 1', 'type_of_meal_plan_Meal Plan 2',\n",
            "       'type_of_meal_plan_Meal Plan 3', 'type_of_meal_plan_Not Selected',\n",
            "       'room_type_reserved_Room_Type 1', 'room_type_reserved_Room_Type 2',\n",
            "       'room_type_reserved_Room_Type 3', 'room_type_reserved_Room_Type 4',\n",
            "       'room_type_reserved_Room_Type 5', 'room_type_reserved_Room_Type 6',\n",
            "       'room_type_reserved_Room_Type 7', 'market_segment_type_Aviation',\n",
            "       'market_segment_type_Complementary', 'market_segment_type_Corporate',\n",
            "       'market_segment_type_Offline', 'market_segment_type_Online'],\n",
            "      dtype='object')\n"
          ]
        }
      ],
      "source": [
        "print(xTrain.columns)\n",
        "print(xTest.columns)"
      ]
    },
    {
      "cell_type": "code",
      "execution_count": 33,
      "id": "tcSxm_4Jc34o",
      "metadata": {
        "id": "tcSxm_4Jc34o"
      },
      "outputs": [],
      "source": [
        "xTrainModel = xTrain.drop(columns = ['index', 'type_of_meal_plan', 'room_type_reserved', 'market_segment_type'], axis=1)\n",
        "xTestModel = xTest.drop(columns = ['index', 'type_of_meal_plan', 'room_type_reserved', 'market_segment_type'], axis=1)"
      ]
    },
    {
      "cell_type": "markdown",
      "id": "7c3f165b",
      "metadata": {},
      "source": [
        "membuat variable xTrainModel dan xTestModel yang berisi data xTrain dan xTest tanpa column kategorikal yang tidak di encode dan column index untuk digunakan dalam model machine learning"
      ]
    },
    {
      "cell_type": "markdown",
      "id": "VNMXmo7CcIWz",
      "metadata": {
        "id": "VNMXmo7CcIWz"
      },
      "source": [
        "### Random Forest"
      ]
    },
    {
      "cell_type": "markdown",
      "id": "c2921d33",
      "metadata": {},
      "source": [
        "Model pertama: random forest dengan criterion gini, dimana semakin kecil nilai gini maka semakin bagus model random forest tersebut.\n",
        "Gini juga merupakan criterion yang paling umum digunakan dalam random forest. "
      ]
    },
    {
      "cell_type": "code",
      "execution_count": 34,
      "id": "xAWZTKYDckTM",
      "metadata": {
        "id": "xAWZTKYDckTM"
      },
      "outputs": [],
      "source": [
        "rfModel = RandomForestClassifier(criterion = 'gini',\n",
        "                                 random_state = 42)\n",
        "rfModel.fit(xTrainModel, yTrain)\n",
        "yRfPred = rfModel.predict(xTestModel)\n",
        "yRfPred = bookingStatsEncoder.inverse_transform(yRfPred)"
      ]
    },
    {
      "cell_type": "markdown",
      "id": "4fd2d535",
      "metadata": {},
      "source": [
        "Pembuatan model random forest classifier, dilanjutkan dengan fitting, dan melakukan prediksi menggunakan model random forest classifieri yang telah dibuat tersebut. Tidak lupa hasil prediksi juga di inverse agar kembali dalam bentuk kategorikal"
      ]
    },
    {
      "cell_type": "code",
      "execution_count": 35,
      "id": "A1Q8Ws5Jdtf2",
      "metadata": {
        "id": "A1Q8Ws5Jdtf2"
      },
      "outputs": [
        {
          "name": "stdout",
          "output_type": "stream",
          "text": [
            "              precision    recall  f1-score   support\n",
            "\n",
            "    Canceled       0.88      0.82      0.85      2416\n",
            "Not_Canceled       0.91      0.95      0.93      4839\n",
            "\n",
            "    accuracy                           0.90      7255\n",
            "   macro avg       0.90      0.88      0.89      7255\n",
            "weighted avg       0.90      0.90      0.90      7255\n",
            "\n"
          ]
        }
      ],
      "source": [
        "print(classification_report(yCheck, yRfPred))"
      ]
    },
    {
      "cell_type": "markdown",
      "id": "01d10bff",
      "metadata": {},
      "source": [
        "Dari hasil classification report diatas, model random forest classifier ini sudah memiliki hasil yang baik, dengan akurasi secara keseluruhan sebesar 90%. Untuk average precision, recall, dan f1-score juga cukup tinggi, karena berada diatas 85% untuk seluruhnya. "
      ]
    },
    {
      "cell_type": "markdown",
      "id": "FFrTMut7cKX5",
      "metadata": {
        "id": "FFrTMut7cKX5"
      },
      "source": [
        "### XGB"
      ]
    },
    {
      "cell_type": "markdown",
      "id": "626c0f4d",
      "metadata": {},
      "source": [
        "Model kedua: XGBoost dengan objective 'binary:logistic', karena model machine learning ini hanya memiliki 2 output, yaitu Canceled atau Not_Canceled, yang dimana output tersebut adalah binary classification."
      ]
    },
    {
      "cell_type": "code",
      "execution_count": 36,
      "id": "tJxEC9x2fCue",
      "metadata": {
        "id": "tJxEC9x2fCue"
      },
      "outputs": [],
      "source": [
        "xgbModel = XGBClassifier(objective = 'binary:logistic',\n",
        "                         random_state = 42)\n",
        "xgbModel.fit(xTrainModel, yTrain)\n",
        "yXgbPred = xgbModel.predict(xTestModel)\n",
        "yXgbPred = bookingStatsEncoder.inverse_transform(yXgbPred)"
      ]
    },
    {
      "cell_type": "markdown",
      "id": "cd4d236d",
      "metadata": {},
      "source": [
        "Sama seperti model random forest, model XGB classifier dibuat, di-fit, dan dibuat hasil prediksi model XGB classifier tersebut. Hasilnya juga di inverse transform. "
      ]
    },
    {
      "cell_type": "code",
      "execution_count": 37,
      "id": "ialMijLRftDd",
      "metadata": {
        "id": "ialMijLRftDd"
      },
      "outputs": [
        {
          "name": "stdout",
          "output_type": "stream",
          "text": [
            "              precision    recall  f1-score   support\n",
            "\n",
            "    Canceled       0.86      0.80      0.83      2416\n",
            "Not_Canceled       0.90      0.94      0.92      4839\n",
            "\n",
            "    accuracy                           0.89      7255\n",
            "   macro avg       0.88      0.87      0.87      7255\n",
            "weighted avg       0.89      0.89      0.89      7255\n",
            "\n"
          ]
        }
      ],
      "source": [
        "print(classification_report(yCheck, yXgbPred))"
      ]
    },
    {
      "cell_type": "markdown",
      "id": "8d56165b",
      "metadata": {},
      "source": [
        "Classification report menunjukkan model XGB Classifier ini memiliki performa yang bagus, tetapi performanya berada dibawah RandomForestClassifier sedikit, karena akurasi untuk model XGB classifier ini hanya lebih kecil 1% dibandingkan RandomForestClassifier. Secara average untuk precision, recall, dan F1-Score dari XGBClassifier ini juga sudah bagus. "
      ]
    },
    {
      "cell_type": "markdown",
      "id": "G5NSoVFthlXx",
      "metadata": {
        "id": "G5NSoVFthlXx"
      },
      "source": [
        "## Best Model"
      ]
    },
    {
      "cell_type": "code",
      "execution_count": 38,
      "id": "iyVDnGGDhmc6",
      "metadata": {
        "id": "iyVDnGGDhmc6"
      },
      "outputs": [
        {
          "name": "stdout",
          "output_type": "stream",
          "text": [
            "\n",
            "Random Forest is the best model with Accuracy Score: 0.904\n"
          ]
        }
      ],
      "source": [
        "rfAcc = accuracy_score(yCheck, yRfPred)\n",
        "xgbAcc = accuracy_score(yCheck, yXgbPred)\n",
        "\n",
        "if (rfAcc > xgbAcc):\n",
        "  print(\"\\nRandom Forest is the best model with Accuracy Score: %.3f\" %rfAcc)\n",
        "  pkl.dump(rfModel, open('outputModel.pkl', 'wb'))\n",
        "else:\n",
        "  print(\"\\nXGB is the best model with Accuracy Score: %.3f\" %xgbAcc)\n",
        "  pkl.dump(xgbModel, open('outputModel.pkl', 'wb'))"
      ]
    },
    {
      "cell_type": "markdown",
      "id": "0818a4c9",
      "metadata": {},
      "source": [
        "Dari 2 model, dipilih model terbagus dan disimpan dalam file pickle. Dan berdasarkan nilai akurasi, diperoleh nilai bahwa model random forest memiliki hasil yang lebih bagus dibandingkan XGB. Maka, model random forest tersebut akan disimpen dalam file pickle dengan nama file outputModel.pkl"
      ]
    }
  ],
  "metadata": {
    "accelerator": "GPU",
    "colab": {
      "collapsed_sections": [
        "a56675cf"
      ],
      "gpuType": "T4",
      "provenance": []
    },
    "kernelspec": {
      "display_name": "Python 3",
      "name": "python3"
    },
    "language_info": {
      "codemirror_mode": {
        "name": "ipython",
        "version": 3
      },
      "file_extension": ".py",
      "mimetype": "text/x-python",
      "name": "python",
      "nbconvert_exporter": "python",
      "pygments_lexer": "ipython3",
      "version": "3.12.3"
    }
  },
  "nbformat": 4,
  "nbformat_minor": 5
}
